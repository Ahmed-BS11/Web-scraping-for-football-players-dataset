{
 "cells": [
  {
   "cell_type": "code",
   "execution_count": 2,
   "metadata": {},
   "outputs": [],
   "source": [
    "import time\n",
    "import pandas as pd\n",
    "from selenium import webdriver\n",
    "#import chromedriver_autoinstaller\n",
    "\n",
    "\n",
    "\n",
    "\n"
   ]
  },
  {
   "cell_type": "code",
   "execution_count": null,
   "metadata": {},
   "outputs": [],
   "source": []
  },
  {
   "cell_type": "code",
   "execution_count": 8,
   "metadata": {},
   "outputs": [
    {
     "ename": "TypeError",
     "evalue": "WebDriver.__init__() got an unexpected keyword argument 'port'",
     "output_type": "error",
     "traceback": [
      "\u001b[1;31m---------------------------------------------------------------------------\u001b[0m",
      "\u001b[1;31mTypeError\u001b[0m                                 Traceback (most recent call last)",
      "Cell \u001b[1;32mIn[8], line 6\u001b[0m\n\u001b[0;32m      4\u001b[0m chrome_options\u001b[39m.\u001b[39madd_argument(\u001b[39m'\u001b[39m\u001b[39m--headless\u001b[39m\u001b[39m'\u001b[39m)\n\u001b[0;32m      5\u001b[0m chrome_options\u001b[39m.\u001b[39madd_argument(\u001b[39m'\u001b[39m\u001b[39m--disable-gpu\u001b[39m\u001b[39m'\u001b[39m)\n\u001b[1;32m----> 6\u001b[0m driver \u001b[39m=\u001b[39m webdriver\u001b[39m.\u001b[39;49mChrome(options\u001b[39m=\u001b[39;49mchrome_options,port\u001b[39m=\u001b[39;49m\u001b[39m0\u001b[39;49m)\n\u001b[0;32m      7\u001b[0m driver\u001b[39m.\u001b[39mget(\u001b[39m'\u001b[39m\u001b[39mhttps://globalink.mitacs.ca/#/student/application/projects\u001b[39m\u001b[39m'\u001b[39m)\n",
      "\u001b[1;31mTypeError\u001b[0m: WebDriver.__init__() got an unexpected keyword argument 'port'"
     ]
    }
   ],
   "source": [
    "chrome_options = webdriver.ChromeOptions()\n",
    "chrome_options.add_argument('--no-sandbox')\n",
    "chrome_options.add_argument('--window-size=1420,1080')\n",
    "chrome_options.add_argument('--headless')\n",
    "chrome_options.add_argument('--disable-gpu')\n",
    "driver = webdriver.Chrome(options=chrome_options,port=0)\n",
    "driver.get('https://globalink.mitacs.ca/#/student/application/projects')\n"
   ]
  },
  {
   "cell_type": "code",
   "execution_count": 9,
   "metadata": {},
   "outputs": [],
   "source": [
    "from selenium.webdriver.common.by import By\n",
    "\n",
    "def execone():\n",
    "    try:\n",
    "        xpath_expression = (\n",
    "            \"//div[contains(@class, 'ui-g-12') \"\n",
    "            \"and contains(@class, 'ui-md-12') \"\n",
    "            \"and contains(@class, 'ng-star-inserted')]\"\n",
    "        )\n",
    "\n",
    "        elements = driver.find_element(By.XPATH,xpath_expression)\n",
    "        curPID = 0\n",
    "        \n",
    "        with open('output.csv', 'w') as writeFile:\n",
    "            for element in elements:\n",
    "                idName = element.find_elements(By.CLASS_NAME, 'ui-grid-row')\n",
    "                header = idName[0].text.split('\\n')\n",
    "                pid = header[0].split()[-1]\n",
    "                curPID = pid\n",
    "                description = idName[1].find_element(By.CLASS_NAME, 'ui-grid-col-9').text\n",
    "\n",
    "                name = description.split('\\n')[0]\n",
    "                description = description.split('\\n')[1].replace(',', ';')\n",
    "                hostDetails = element.find_element(By.CLASS_NAME, 'ui-grid-col-3').text.split('\\n')\n",
    "                prof = hostDetails[0].split(':')[-1].strip().replace(',', ';')\n",
    "                hostProvince = hostDetails[1].split(':')[-1].strip().replace(',', ';')\n",
    "                hostUniv = hostDetails[2].split(':')[-1].strip().replace(',', ';')\n",
    "                language = hostDetails[3].split(':')[-1].strip().replace(',', ';')\n",
    "                startDate = hostDetails[4].split(':')[-1].strip().split('(')[0].strip().replace(',', ';')\n",
    "                \n",
    "                writeFile.write(pid + ',' + name + ',' + description + ',' + prof + ',' + hostProvince + ',' + hostUniv + ',' + language + ',' + startDate + '\\n')\n",
    "\n",
    "        print(len(elements), curPID)\n",
    "    except Exception as e:\n",
    "        print(\"An error occurred:\", str(e))\n",
    "    finally:\n",
    "        driver.quit()"
   ]
  },
  {
   "cell_type": "code",
   "execution_count": 10,
   "metadata": {},
   "outputs": [
    {
     "name": "stdout",
     "output_type": "stream",
     "text": [
      "An error occurred: HTTPConnectionPool(host='localhost', port=55016): Max retries exceeded with url: /session/16737883c5f0d6262db995c458f15076/element (Caused by NewConnectionError('<urllib3.connection.HTTPConnection object at 0x0000025DE920CA00>: Failed to establish a new connection: [WinError 10061] No connection could be made because the target machine actively refused it'))\n"
     ]
    }
   ],
   "source": [
    "execone()\n"
   ]
  },
  {
   "cell_type": "code",
   "execution_count": null,
   "metadata": {},
   "outputs": [],
   "source": []
  }
 ],
 "metadata": {
  "kernelspec": {
   "display_name": "Python 3",
   "language": "python",
   "name": "python3"
  },
  "language_info": {
   "codemirror_mode": {
    "name": "ipython",
    "version": 3
   },
   "file_extension": ".py",
   "mimetype": "text/x-python",
   "name": "python",
   "nbconvert_exporter": "python",
   "pygments_lexer": "ipython3",
   "version": "3.10.11"
  },
  "orig_nbformat": 4
 },
 "nbformat": 4,
 "nbformat_minor": 2
}
